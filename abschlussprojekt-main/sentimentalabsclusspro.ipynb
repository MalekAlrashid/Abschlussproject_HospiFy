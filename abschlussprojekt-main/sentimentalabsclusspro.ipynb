{
 "cells": [
  {
   "cell_type": "code",
   "execution_count": 1,
   "metadata": {},
   "outputs": [
    {
     "name": "stdout",
     "output_type": "stream",
     "text": [
      "Requirement already satisfied: textblob-de==0.4.3 in c:\\users\\shagh\\anaconda3\\lib\\site-packages (0.4.3)\n",
      "Requirement already satisfied: textblob>=0.9.0 in c:\\users\\shagh\\anaconda3\\lib\\site-packages (from textblob-de==0.4.3) (0.15.3)\n",
      "Requirement already satisfied: nltk>=3.1 in c:\\users\\shagh\\anaconda3\\lib\\site-packages (from textblob>=0.9.0->textblob-de==0.4.3) (3.5)\n",
      "Requirement already satisfied: joblib in c:\\users\\shagh\\anaconda3\\lib\\site-packages (from nltk>=3.1->textblob>=0.9.0->textblob-de==0.4.3) (0.16.0)\n",
      "Requirement already satisfied: tqdm in c:\\users\\shagh\\anaconda3\\lib\\site-packages (from nltk>=3.1->textblob>=0.9.0->textblob-de==0.4.3) (4.47.0)\n",
      "Requirement already satisfied: click in c:\\users\\shagh\\anaconda3\\lib\\site-packages (from nltk>=3.1->textblob>=0.9.0->textblob-de==0.4.3) (7.1.2)\n",
      "Requirement already satisfied: regex in c:\\users\\shagh\\anaconda3\\lib\\site-packages (from nltk>=3.1->textblob>=0.9.0->textblob-de==0.4.3) (2020.6.8)\n"
     ]
    }
   ],
   "source": [
    "#!pip install -U textblob-de==0.4.3"
   ]
  },
  {
   "cell_type": "code",
   "execution_count": 2,
   "metadata": {},
   "outputs": [
    {
     "name": "stdout",
     "output_type": "stream",
     "text": [
      "Finished."
     ]
    },
    {
     "name": "stderr",
     "output_type": "stream",
     "text": [
      "[nltk_data] Downloading package brown to\n",
      "[nltk_data]     C:\\Users\\shagh\\AppData\\Roaming\\nltk_data...\n",
      "[nltk_data]   Package brown is already up-to-date!\n",
      "[nltk_data] Downloading package punkt to\n",
      "[nltk_data]     C:\\Users\\shagh\\AppData\\Roaming\\nltk_data...\n",
      "[nltk_data]   Package punkt is already up-to-date!\n",
      "[nltk_data] Downloading package wordnet to\n",
      "[nltk_data]     C:\\Users\\shagh\\AppData\\Roaming\\nltk_data...\n",
      "[nltk_data]   Package wordnet is already up-to-date!\n",
      "[nltk_data] Downloading package averaged_perceptron_tagger to\n",
      "[nltk_data]     C:\\Users\\shagh\\AppData\\Roaming\\nltk_data...\n",
      "[nltk_data]   Package averaged_perceptron_tagger is already up-to-\n",
      "[nltk_data]       date!\n",
      "[nltk_data] Downloading package conll2000 to\n",
      "[nltk_data]     C:\\Users\\shagh\\AppData\\Roaming\\nltk_data...\n",
      "[nltk_data]   Package conll2000 is already up-to-date!\n",
      "[nltk_data] Downloading package movie_reviews to\n",
      "[nltk_data]     C:\\Users\\shagh\\AppData\\Roaming\\nltk_data...\n",
      "[nltk_data]   Package movie_reviews is already up-to-date!\n"
     ]
    },
    {
     "name": "stdout",
     "output_type": "stream",
     "text": [
      "\n"
     ]
    }
   ],
   "source": [
    "#!python -m textblob.download_corpora"
   ]
  },
  {
   "cell_type": "code",
   "execution_count": 3,
   "metadata": {},
   "outputs": [],
   "source": [
    "import textblob\n",
    "import pandas as pd\n",
    "import numpy as np\n",
    "from textblob_de import TextBlobDE\n",
    "import matplotlib.pyplot as plt\n",
    "import seaborn as sns\n",
    "import pandas\n"
   ]
  },
  {
   "cell_type": "code",
   "execution_count": 4,
   "metadata": {},
   "outputs": [],
   "source": [
    "df = pd.read_csv(\"Klinikbewertungen.csv\")"
   ]
  },
  {
   "cell_type": "code",
   "execution_count": 6,
   "metadata": {},
   "outputs": [
    {
     "name": "stdout",
     "output_type": "stream",
     "text": [
      "<class 'pandas.core.frame.DataFrame'>\n",
      "RangeIndex: 3032 entries, 0 to 3031\n",
      "Data columns (total 26 columns):\n",
      " #   Column                               Non-Null Count  Dtype \n",
      "---  ------                               --------------  ----- \n",
      " 0   Klinikname                           3032 non-null   object\n",
      " 1   Nutzername                           3032 non-null   object\n",
      " 2   Titel                                3032 non-null   object\n",
      " 3   Datum                                3032 non-null   object\n",
      " 4   Behandlungsjahr                      3032 non-null   object\n",
      " 5   Berichtet als                        3032 non-null   object\n",
      " 6   Daumen hoch/runter                   3032 non-null   object\n",
      " 7   Fachbereich                          3032 non-null   object\n",
      " 8   Gesamtzufriedenheit                  3032 non-null   int64 \n",
      " 9   Textuell Gesamtzufriedenheit         3032 non-null   object\n",
      " 10  Beratungsqualität                    3032 non-null   int64 \n",
      " 11  Textuell Beratungsqualität           3032 non-null   object\n",
      " 12  Medzinische Behandlung               3032 non-null   int64 \n",
      " 13  Textuell Medizinische Behandlung     3032 non-null   object\n",
      " 14  Verwaltung und Abläufe               3032 non-null   int64 \n",
      " 15  Textuell Verwaltung und Abläufe      3032 non-null   object\n",
      " 16  Ausstattung und Gestaltung           3032 non-null   object\n",
      " 17  Textuell Ausstattung und Gestaltung  3032 non-null   object\n",
      " 18  Pro                                  3032 non-null   object\n",
      " 19  Kontra                               3031 non-null   object\n",
      " 20  Krankheitsbild                       3032 non-null   object\n",
      " 21  Privatpatient                        3032 non-null   object\n",
      " 22  Erfahrungsbericht                    3032 non-null   object\n",
      " 23  Kommentare                           3032 non-null   object\n",
      " 24  URL                                  3032 non-null   object\n",
      " 25  Extraktionsdatum                     3032 non-null   object\n",
      "dtypes: int64(4), object(22)\n",
      "memory usage: 616.0+ KB\n"
     ]
    }
   ],
   "source": [
    "df.info()"
   ]
  },
  {
   "cell_type": "code",
   "execution_count": 8,
   "metadata": {},
   "outputs": [
    {
     "data": {
      "text/html": [
       "<div>\n",
       "<style scoped>\n",
       "    .dataframe tbody tr th:only-of-type {\n",
       "        vertical-align: middle;\n",
       "    }\n",
       "\n",
       "    .dataframe tbody tr th {\n",
       "        vertical-align: top;\n",
       "    }\n",
       "\n",
       "    .dataframe thead th {\n",
       "        text-align: right;\n",
       "    }\n",
       "</style>\n",
       "<table border=\"1\" class=\"dataframe\">\n",
       "  <thead>\n",
       "    <tr style=\"text-align: right;\">\n",
       "      <th></th>\n",
       "      <th>Klinikname</th>\n",
       "      <th>Nutzername</th>\n",
       "      <th>Titel</th>\n",
       "      <th>Datum</th>\n",
       "      <th>Behandlungsjahr</th>\n",
       "      <th>Berichtet als</th>\n",
       "      <th>Daumen hoch/runter</th>\n",
       "      <th>Fachbereich</th>\n",
       "      <th>Gesamtzufriedenheit</th>\n",
       "      <th>Textuell Gesamtzufriedenheit</th>\n",
       "      <th>...</th>\n",
       "      <th>Ausstattung und Gestaltung</th>\n",
       "      <th>Textuell Ausstattung und Gestaltung</th>\n",
       "      <th>Pro</th>\n",
       "      <th>Kontra</th>\n",
       "      <th>Krankheitsbild</th>\n",
       "      <th>Privatpatient</th>\n",
       "      <th>Erfahrungsbericht</th>\n",
       "      <th>Kommentare</th>\n",
       "      <th>URL</th>\n",
       "      <th>Extraktionsdatum</th>\n",
       "    </tr>\n",
       "  </thead>\n",
       "  <tbody>\n",
       "    <tr>\n",
       "      <th>0</th>\n",
       "      <td>MediClin Seepark Klinik</td>\n",
       "      <td>Noname136</td>\n",
       "      <td>Organisation ist ein Fremdwort</td>\n",
       "      <td>19.05.2021</td>\n",
       "      <td>Jahr der Behandlung: 20121</td>\n",
       "      <td>berichtet als Patient</td>\n",
       "      <td>Kein Daumen hoch/runter</td>\n",
       "      <td>Psychosomatik</td>\n",
       "      <td>2</td>\n",
       "      <td>weniger zufrieden\\n</td>\n",
       "      <td>...</td>\n",
       "      <td>2</td>\n",
       "      <td>weniger zufrieden\\n</td>\n",
       "      <td>Die Schwestern der MZ, Ernährungstherapeuten</td>\n",
       "      <td>siehe Bericht</td>\n",
       "      <td>Bulemie, Depressionen</td>\n",
       "      <td>nein</td>\n",
       "      <td>Hatte mir mehr versprochen  Die Organisation l...</td>\n",
       "      <td>Kein Kommentar</td>\n",
       "      <td>https://www.klinikbewertungen.de/klinik-forum/...</td>\n",
       "      <td>01.06.2021</td>\n",
       "    </tr>\n",
       "    <tr>\n",
       "      <th>1</th>\n",
       "      <td>MediClin Seepark Klinik</td>\n",
       "      <td>noname22</td>\n",
       "      <td>Es war die Hölle auf Erden</td>\n",
       "      <td>11.04.2021</td>\n",
       "      <td>Jahr der Behandlung: 18</td>\n",
       "      <td>berichtet als Patient</td>\n",
       "      <td>Daumen runter</td>\n",
       "      <td>Psychosomatik</td>\n",
       "      <td>0</td>\n",
       "      <td>unzufrieden\\n</td>\n",
       "      <td>...</td>\n",
       "      <td>2</td>\n",
       "      <td>weniger zufrieden (In den Zimmern roch es nach...</td>\n",
       "      <td>die Kunsttherapie war klasse!</td>\n",
       "      <td>Therapeuten; das Essen; Ich als Patient wurde ...</td>\n",
       "      <td>Depression</td>\n",
       "      <td>nein</td>\n",
       "      <td>Es war die absolute Hölle!  Die Therapeuten ka...</td>\n",
       "      <td>Kein Kommentar</td>\n",
       "      <td>https://www.klinikbewertungen.de/klinik-forum/...</td>\n",
       "      <td>01.06.2021</td>\n",
       "    </tr>\n",
       "    <tr>\n",
       "      <th>2</th>\n",
       "      <td>MediClin Seepark Klinik</td>\n",
       "      <td>Cl.A.</td>\n",
       "      <td>Abschlussbericht</td>\n",
       "      <td>11.04.2021</td>\n",
       "      <td>Jahr der Behandlung: 2020</td>\n",
       "      <td>berichtet als Patient</td>\n",
       "      <td>Daumen runter</td>\n",
       "      <td>Psychosomatik</td>\n",
       "      <td>0</td>\n",
       "      <td>unzufrieden (Siehe oben)\\n</td>\n",
       "      <td>...</td>\n",
       "      <td>2</td>\n",
       "      <td>weniger zufrieden (Null acht fünfzehn- Program...</td>\n",
       "      <td>-</td>\n",
       "      <td>Nein siehe oben!!!!!!!</td>\n",
       "      <td>Nachsorge und Begleitung nach einer Magen-Oper...</td>\n",
       "      <td>nein</td>\n",
       "      <td>Als grundpositiv eingestellter Mensch wollte i...</td>\n",
       "      <td>Kein Kommentar</td>\n",
       "      <td>https://www.klinikbewertungen.de/klinik-forum/...</td>\n",
       "      <td>01.06.2021</td>\n",
       "    </tr>\n",
       "    <tr>\n",
       "      <th>3</th>\n",
       "      <td>MediClin Seepark Klinik</td>\n",
       "      <td>xx.</td>\n",
       "      <td>Zum größten Teil nicht weiter zu empfehlen</td>\n",
       "      <td>04.04.2021</td>\n",
       "      <td>Jahr der Behandlung: 2020 /21</td>\n",
       "      <td>berichtet als Patient</td>\n",
       "      <td>Kein Daumen hoch/runter</td>\n",
       "      <td>Psychosomatik</td>\n",
       "      <td>2</td>\n",
       "      <td>weniger zufrieden\\n</td>\n",
       "      <td>...</td>\n",
       "      <td>2</td>\n",
       "      <td>weniger zufrieden\\n</td>\n",
       "      <td>Das Essen</td>\n",
       "      <td>Die Mitarbeiter, Chefarzt, Therapien</td>\n",
       "      <td>Anorexie</td>\n",
       "      <td>nein</td>\n",
       "      <td>Ich war für ca 5 Monate in der Klinik gewesen....</td>\n",
       "      <td>Kein Kommentar</td>\n",
       "      <td>https://www.klinikbewertungen.de/klinik-forum/...</td>\n",
       "      <td>01.06.2021</td>\n",
       "    </tr>\n",
       "    <tr>\n",
       "      <th>4</th>\n",
       "      <td>MediClin Seepark Klinik</td>\n",
       "      <td>Ellie.</td>\n",
       "      <td>Durchaus ein Ort zum Genesen</td>\n",
       "      <td>28.03.2021</td>\n",
       "      <td>Jahr der Behandlung: 2020</td>\n",
       "      <td>berichtet als Patient</td>\n",
       "      <td>Daumen hoch</td>\n",
       "      <td>Psychosomatik</td>\n",
       "      <td>4</td>\n",
       "      <td>zufrieden\\n</td>\n",
       "      <td>...</td>\n",
       "      <td>6</td>\n",
       "      <td>sehr zufrieden\\n</td>\n",
       "      <td>Direkte (aber nette) und offene Art mit der Er...</td>\n",
       "      <td>-</td>\n",
       "      <td>Anorexie, Depressionen</td>\n",
       "      <td>nein</td>\n",
       "      <td>Als ich in die Klinik ankam, wurde ich freundl...</td>\n",
       "      <td>Kein Kommentar</td>\n",
       "      <td>https://www.klinikbewertungen.de/klinik-forum/...</td>\n",
       "      <td>01.06.2021</td>\n",
       "    </tr>\n",
       "  </tbody>\n",
       "</table>\n",
       "<p>5 rows × 26 columns</p>\n",
       "</div>"
      ],
      "text/plain": [
       "                Klinikname Nutzername  \\\n",
       "0  MediClin Seepark Klinik  Noname136   \n",
       "1  MediClin Seepark Klinik   noname22   \n",
       "2  MediClin Seepark Klinik      Cl.A.   \n",
       "3  MediClin Seepark Klinik        xx.   \n",
       "4  MediClin Seepark Klinik     Ellie.   \n",
       "\n",
       "                                        Titel       Datum  \\\n",
       "0              Organisation ist ein Fremdwort  19.05.2021   \n",
       "1                  Es war die Hölle auf Erden  11.04.2021   \n",
       "2                            Abschlussbericht  11.04.2021   \n",
       "3  Zum größten Teil nicht weiter zu empfehlen  04.04.2021   \n",
       "4                Durchaus ein Ort zum Genesen  28.03.2021   \n",
       "\n",
       "                 Behandlungsjahr                    Berichtet als  \\\n",
       "0     Jahr der Behandlung: 20121  berichtet als Patient             \n",
       "1     Jahr der Behandlung: 18     berichtet als Patient             \n",
       "2   Jahr der Behandlung: 2020     berichtet als Patient             \n",
       "3  Jahr der Behandlung: 2020 /21  berichtet als Patient             \n",
       "4   Jahr der Behandlung: 2020     berichtet als Patient             \n",
       "\n",
       "        Daumen hoch/runter    Fachbereich  Gesamtzufriedenheit  \\\n",
       "0  Kein Daumen hoch/runter  Psychosomatik                    2   \n",
       "1            Daumen runter  Psychosomatik                    0   \n",
       "2            Daumen runter  Psychosomatik                    0   \n",
       "3  Kein Daumen hoch/runter  Psychosomatik                    2   \n",
       "4              Daumen hoch  Psychosomatik                    4   \n",
       "\n",
       "  Textuell Gesamtzufriedenheit  ...  Ausstattung und Gestaltung  \\\n",
       "0          weniger zufrieden\\n  ...                           2   \n",
       "1                unzufrieden\\n  ...                           2   \n",
       "2   unzufrieden (Siehe oben)\\n  ...                           2   \n",
       "3          weniger zufrieden\\n  ...                           2   \n",
       "4                  zufrieden\\n  ...                           6   \n",
       "\n",
       "                 Textuell Ausstattung und Gestaltung  \\\n",
       "0                                weniger zufrieden\\n   \n",
       "1  weniger zufrieden (In den Zimmern roch es nach...   \n",
       "2  weniger zufrieden (Null acht fünfzehn- Program...   \n",
       "3                                weniger zufrieden\\n   \n",
       "4                                   sehr zufrieden\\n   \n",
       "\n",
       "                                                 Pro  \\\n",
       "0       Die Schwestern der MZ, Ernährungstherapeuten   \n",
       "1                      die Kunsttherapie war klasse!   \n",
       "2                                                  -   \n",
       "3                                          Das Essen   \n",
       "4  Direkte (aber nette) und offene Art mit der Er...   \n",
       "\n",
       "                                              Kontra  \\\n",
       "0                                      siehe Bericht   \n",
       "1  Therapeuten; das Essen; Ich als Patient wurde ...   \n",
       "2                             Nein siehe oben!!!!!!!   \n",
       "3               Die Mitarbeiter, Chefarzt, Therapien   \n",
       "4                                                  -   \n",
       "\n",
       "                                      Krankheitsbild Privatpatient  \\\n",
       "0                              Bulemie, Depressionen          nein   \n",
       "1                                         Depression          nein   \n",
       "2  Nachsorge und Begleitung nach einer Magen-Oper...          nein   \n",
       "3                                           Anorexie          nein   \n",
       "4                             Anorexie, Depressionen          nein   \n",
       "\n",
       "                                   Erfahrungsbericht      Kommentare  \\\n",
       "0  Hatte mir mehr versprochen  Die Organisation l...  Kein Kommentar   \n",
       "1  Es war die absolute Hölle!  Die Therapeuten ka...  Kein Kommentar   \n",
       "2  Als grundpositiv eingestellter Mensch wollte i...  Kein Kommentar   \n",
       "3  Ich war für ca 5 Monate in der Klinik gewesen....  Kein Kommentar   \n",
       "4  Als ich in die Klinik ankam, wurde ich freundl...  Kein Kommentar   \n",
       "\n",
       "                                                 URL Extraktionsdatum  \n",
       "0  https://www.klinikbewertungen.de/klinik-forum/...       01.06.2021  \n",
       "1  https://www.klinikbewertungen.de/klinik-forum/...       01.06.2021  \n",
       "2  https://www.klinikbewertungen.de/klinik-forum/...       01.06.2021  \n",
       "3  https://www.klinikbewertungen.de/klinik-forum/...       01.06.2021  \n",
       "4  https://www.klinikbewertungen.de/klinik-forum/...       01.06.2021  \n",
       "\n",
       "[5 rows x 26 columns]"
      ]
     },
     "execution_count": 8,
     "metadata": {},
     "output_type": "execute_result"
    }
   ],
   "source": [
    "df.head(5)"
   ]
  },
  {
   "cell_type": "code",
   "execution_count": 26,
   "metadata": {},
   "outputs": [],
   "source": [
    "Erfahrungsbericht = df.Erfahrungsbericht"
   ]
  },
  {
   "cell_type": "code",
   "execution_count": 27,
   "metadata": {},
   "outputs": [
    {
     "data": {
      "text/plain": [
       "pandas.core.series.Series"
      ]
     },
     "execution_count": 27,
     "metadata": {},
     "output_type": "execute_result"
    }
   ],
   "source": [
    "type(Erfahrungsbericht)"
   ]
  },
  {
   "cell_type": "raw",
   "metadata": {},
   "source": []
  },
  {
   "cell_type": "code",
   "execution_count": 28,
   "metadata": {},
   "outputs": [
    {
     "name": "stdout",
     "output_type": "stream",
     "text": [
      "0       Hatte mir mehr versprochen  Die Organisation l...\n",
      "1       Es war die absolute Hölle!  Die Therapeuten ka...\n",
      "2       Als grundpositiv eingestellter Mensch wollte i...\n",
      "3       Ich war für ca 5 Monate in der Klinik gewesen....\n",
      "4       Als ich in die Klinik ankam, wurde ich freundl...\n",
      "                              ...                        \n",
      "3027    War zur Knieendoprothese im BWK Westerstede, h...\n",
      "3028    Im Juli 2010 musste ich an der Hand operiert w...\n",
      "3029    Sehr nettes Personal,hervorragende Betreuung,Z...\n",
      "3030    Im Juli 2008 hatte ich einen Unfall und kam in...\n",
      "3031    Man merkt es den Ärzten und dem Pflegepersonal...\n",
      "Name: Erfahrungsbericht, Length: 3032, dtype: object\n"
     ]
    }
   ],
   "source": [
    "Erfahrungsbericht = str (Erfahrungsbericht)\n",
    "print(Erfahrungsbericht)"
   ]
  },
  {
   "cell_type": "code",
   "execution_count": 29,
   "metadata": {},
   "outputs": [
    {
     "data": {
      "text/plain": [
       "str"
      ]
     },
     "execution_count": 29,
     "metadata": {},
     "output_type": "execute_result"
    }
   ],
   "source": [
    "type(Erfahrungsbericht)"
   ]
  },
  {
   "cell_type": "code",
   "execution_count": 30,
   "metadata": {},
   "outputs": [],
   "source": [
    "blob = TextBlobDE(Erfahrungsbericht)"
   ]
  },
  {
   "cell_type": "code",
   "execution_count": 31,
   "metadata": {},
   "outputs": [
    {
     "data": {
      "text/plain": [
       "[Sentence(\"0       Hatte mir mehr versprochen  Die Organisation l...\n",
       " 1       Es war die absolute Hölle!\"),\n",
       " Sentence(\"Die Therapeuten ka...\n",
       " 2       Als grundpositiv eingestellter Mensch wollte i...\n",
       " 3       Ich war für ca 5 Monate in der Klinik gewesen....\n",
       " 4       Als ich in die Klinik ankam, wurde ich freundl...\n",
       "                               ...                        \n",
       " 3027    War zur Knieendoprothese im BWK Westerstede, h...\n",
       " 3028    Im Juli 2010 musste ich an der Hand operiert w...\n",
       " 3029    Sehr nettes Personal,hervorragende Betreuung,Z...\n",
       " 3030    Im Juli 2008 hatte ich einen Unfall und kam in...\n",
       " 3031    Man merkt es den Ärzten und dem Pflegepersonal...\n",
       " Name: Erfahrungsbericht, Length: 3032, dtype: object\")]"
      ]
     },
     "execution_count": 31,
     "metadata": {},
     "output_type": "execute_result"
    }
   ],
   "source": [
    "blob.sentences"
   ]
  },
  {
   "cell_type": "code",
   "execution_count": 32,
   "metadata": {},
   "outputs": [
    {
     "data": {
      "text/plain": [
       "WordList(['0', 'Hatte', 'mir', 'mehr', 'versprochen', 'Die', 'Organisation', 'l', '...', '1', 'Es', 'war', 'die', 'absolute', 'Hölle', '!', 'Die', 'Therapeuten', 'ka', '...', '2', 'Als', 'grundpositiv', 'eingestellter', 'Mensch', 'wollte', 'i', '...', '3', 'Ich', 'war', 'für', 'ca', '5', 'Monate', 'in', 'der', 'Klinik', 'gewesen', '...', '.', '4', 'Als', 'ich', 'in', 'die', 'Klinik', 'ankam', ',', 'wurde', 'ich', 'freundl', '...', '...', '3027', 'War', 'zur', 'Knieendoprothese', 'im', 'BWK', 'Westerstede', ',', 'h', '...', '3028', 'Im', 'Juli', '2010', 'musste', 'ich', 'an', 'der', 'Hand', 'operiert', 'w', '...', '3029', 'Sehr', 'nettes', 'Personal', ',', 'hervorragende', 'Betreuung', ',', 'Z', '...', '3030', 'Im', 'Juli', '2008', 'hatte', 'ich', 'einen', 'Unfall', 'und', 'kam', 'in', '...', '3031', 'Man', 'merkt', 'es', 'den', 'Ärzten', 'und', 'dem', 'Pflegepersonal', '...', 'Name', ':', 'Erfahrungsbericht', ',', 'Length', ':', '3032', ',', 'dtype', ':', 'object'])"
      ]
     },
     "execution_count": 32,
     "metadata": {},
     "output_type": "execute_result"
    }
   ],
   "source": [
    "blob.tokens "
   ]
  },
  {
   "cell_type": "code",
   "execution_count": 33,
   "metadata": {
    "collapsed": true
   },
   "outputs": [
    {
     "data": {
      "text/plain": [
       "[('0', 'CD'),\n",
       " ('Hatte', 'NN'),\n",
       " ('mir', 'PRP'),\n",
       " ('mehr', 'RB'),\n",
       " ('versprochen', 'VB'),\n",
       " ('Die', 'DT'),\n",
       " ('Organisation', 'NN'),\n",
       " ('l', 'NN'),\n",
       " ('...', 'CD'),\n",
       " ('1', 'CD'),\n",
       " ('Es', 'PRP'),\n",
       " ('war', 'VB'),\n",
       " ('die', 'DT'),\n",
       " ('absolute', 'JJ'),\n",
       " ('Hölle', 'NN'),\n",
       " ('Die', 'DT'),\n",
       " ('Therapeuten', 'NN'),\n",
       " ('ka', 'NN'),\n",
       " ('...', 'CD'),\n",
       " ('2', 'CD'),\n",
       " ('Als', 'IN'),\n",
       " ('grundpositiv', 'NN'),\n",
       " ('eingestellter', 'NN'),\n",
       " ('Mensch', 'NN'),\n",
       " ('wollte', 'MD'),\n",
       " ('i', 'NN'),\n",
       " ('...', 'CD'),\n",
       " ('3', 'CD'),\n",
       " ('Ich', 'PRP'),\n",
       " ('war', 'VB'),\n",
       " ('für', 'IN'),\n",
       " ('ca', 'NN'),\n",
       " ('5', 'CD'),\n",
       " ('Monate', 'NN'),\n",
       " ('in', 'IN'),\n",
       " ('der', 'DT'),\n",
       " ('Klinik', 'NN'),\n",
       " ('gewesen', 'VBN'),\n",
       " ('...', 'CD'),\n",
       " ('4', 'CD'),\n",
       " ('Als', 'IN'),\n",
       " ('ich', 'PRP'),\n",
       " ('in', 'IN'),\n",
       " ('die', 'DT'),\n",
       " ('Klinik', 'NN'),\n",
       " ('ankam', 'JJ'),\n",
       " ('wurde', 'VB'),\n",
       " ('ich', 'PRP'),\n",
       " ('freundl', 'NN'),\n",
       " ('...', 'CD'),\n",
       " ('...', 'CD'),\n",
       " ('3027', 'CD'),\n",
       " ('War', 'VB'),\n",
       " ('zur', 'IN'),\n",
       " ('Knieendoprothese', 'NN'),\n",
       " ('im', 'IN'),\n",
       " ('BWK', 'NNP'),\n",
       " ('Westerstede', 'NNP'),\n",
       " ('h', 'NN'),\n",
       " ('...', 'CD'),\n",
       " ('3028', 'CD'),\n",
       " ('Im', 'IN'),\n",
       " ('Juli', 'NN'),\n",
       " ('2010', 'CD'),\n",
       " ('musste', 'VB'),\n",
       " ('ich', 'PRP'),\n",
       " ('an', 'IN'),\n",
       " ('der', 'DT'),\n",
       " ('Hand', 'NN'),\n",
       " ('operiert', 'NN'),\n",
       " ('w', 'NN'),\n",
       " ('...', 'CD'),\n",
       " ('3029', 'CD'),\n",
       " ('Sehr', 'RB'),\n",
       " ('nettes', 'JJ'),\n",
       " ('Personal', 'NN'),\n",
       " ('hervorragende', 'JJ'),\n",
       " ('Betreuung', 'NN'),\n",
       " ('Z', 'NN'),\n",
       " ('...', 'CD'),\n",
       " ('3030', 'CD'),\n",
       " ('Im', 'IN'),\n",
       " ('Juli', 'NN'),\n",
       " ('2008', 'CD'),\n",
       " ('hatte', 'VB'),\n",
       " ('ich', 'PRP'),\n",
       " ('einen', 'DT'),\n",
       " ('Unfall', 'NN'),\n",
       " ('und', 'CC'),\n",
       " ('kam', 'VB'),\n",
       " ('in', 'IN'),\n",
       " ('...', 'CD'),\n",
       " ('3031', 'CD'),\n",
       " ('Man', 'DT'),\n",
       " ('merkt', 'VB'),\n",
       " ('es', 'PRP'),\n",
       " ('den', 'DT'),\n",
       " ('Ärzten', 'NN'),\n",
       " ('und', 'CC'),\n",
       " ('dem', 'DT'),\n",
       " ('Pflegepersonal', 'NN'),\n",
       " ('...', 'CD'),\n",
       " ('Name', 'NN'),\n",
       " ('Erfahrungsbericht', 'NN'),\n",
       " ('Length', 'NN'),\n",
       " ('3032', 'CD'),\n",
       " ('dtype', 'NN'),\n",
       " ('object', 'NN')]"
      ]
     },
     "execution_count": 33,
     "metadata": {},
     "output_type": "execute_result"
    }
   ],
   "source": [
    "blob.tags"
   ]
  },
  {
   "cell_type": "code",
   "execution_count": 34,
   "metadata": {},
   "outputs": [
    {
     "data": {
      "text/plain": [
       "Sentiment(polarity=0.925, subjectivity=0.0)"
      ]
     },
     "execution_count": 34,
     "metadata": {},
     "output_type": "execute_result"
    }
   ],
   "source": [
    "blob.sentiment"
   ]
  },
  {
   "cell_type": "code",
   "execution_count": 35,
   "metadata": {},
   "outputs": [
    {
     "data": {
      "text/plain": [
       "WordList(['0', 'Hatte', 'mir', 'mehr', 'versprechen', 'Die', 'Organisation', 'l', '1', 'Es', 'sein', 'die', 'absolut', 'Hölle', 'Die', 'Therapeuten', 'ka', '2', 'Als', 'grundpositiv', 'eingestellter', 'Mensch', 'wollen', 'i', '3', 'Ich', 'sein', 'für', 'ca', '5', 'Monate', 'in', 'der', 'Klinik', 'sein', '4', 'Als', 'ich', 'in', 'die', 'Klinik', 'ankommen', 'werden', 'ich', 'freundl', '3027', 'Sein', 'zur', 'Knieendoprothese', 'im', 'Bwk', 'Westerstede', 'h', '3028', 'Im', 'Juli', '2010', 'müssen', 'ich', 'an', 'der', 'Hand', 'operiert', 'w', '3029', 'Sehr', 'nett', 'Personal', 'hervorragend', 'Betreuung', 'Z', '3030', 'Im', 'Juli', '2008', 'haben', 'ich', 'ein', 'Unfall', 'und', 'kommen', 'in', '3031', 'Man', 'merken', 'es', 'den', 'Ärzten', 'und', 'dem', 'Pflegepersonal', 'Name', 'Erfahrungsbericht', 'Length', '3032', 'dtyp', 'object'])"
      ]
     },
     "execution_count": 35,
     "metadata": {},
     "output_type": "execute_result"
    }
   ],
   "source": [
    "blob.words.lemmatize()"
   ]
  },
  {
   "cell_type": "code",
   "execution_count": 36,
   "metadata": {},
   "outputs": [
    {
     "name": "stdout",
     "output_type": "stream",
     "text": [
      "                  WORD   TAG    CHUNK   ROLE   ID     PNP    LEMMA                    \n",
      "                                                                                      \n",
      "                     0   CD     NP      -      -      -      0                        \n",
      "                 Hatte   NN     NP ^    -      -      -      hatte                    \n",
      "                   mir   PRP    NP ^    -      -      -      mir                      \n",
      "                  mehr   RB     VP      -      -      -      mehr                     \n",
      "           versprochen   VB     VP ^    -      -      -      versprechen              \n",
      "                   Die   DT     NP      -      -      -      die                      \n",
      "          Organisation   NN     NP ^    -      -      -      organisation             \n",
      "                     l   NN     NP ^    -      -      -      l                        \n",
      "                    ..   CD     -       -      -      -      ..                       \n",
      "                     .   .      -       -      -      -      .                        \n",
      "                     1   CD     NP      -      -      -      1                        \n",
      "                    Es   PRP    NP ^    -      -      -      es                       \n",
      "                   war   VB     VP      -      -      -      sein                     \n",
      "                   die   DT     NP      -      -      -      die                      \n",
      "              absolute   JJ     NP ^    -      -      -      absolut                  \n",
      "                 Hölle   NN     NP ^    -      -      -      hölle                    \n",
      "                     !   .      -       -      -      -      !                        \n",
      "                   Die   DT     NP      -      -      -      die                      \n",
      "           Therapeuten   NN     NP ^    -      -      -      therapeuten              \n",
      "                    ka   NN     NP ^    -      -      -      ka                       \n",
      "                    ..   CD     -       -      -      -      ..                       \n",
      "                     .   .      -       -      -      -      .                        \n",
      "                     2   CD     -       -      -      -      2                        \n",
      "                   Als   IN     PP      -      -      PNP    als                      \n",
      "          grundpositiv   NN     NP      -      -      PNP    grundpositiv             \n",
      "         eingestellter   NN     NP ^    -      -      PNP    eingestellter            \n",
      "                Mensch   NN     NP ^    -      -      PNP    mensch                   \n",
      "                wollte   MD     VP      -      -      -      wollen                   \n",
      "                     i   NN     NP      -      -      -      i                        \n",
      "                    ..   CD     -       -      -      -      ..                       \n",
      "                     .   .      -       -      -      -      .                        \n",
      "                     3   CD     NP      -      -      -      3                        \n",
      "                   Ich   PRP    NP ^    -      -      -      ich                      \n",
      "                   war   VB     VP      -      -      -      sein                     \n",
      "                   für   IN     PP      -      -      PNP    für                      \n",
      "                    ca   NN     NP      -      -      PNP    ca                       \n",
      "                     5   CD     NP ^    -      -      PNP    5                        \n",
      "                Monate   NN     NP ^    -      -      PNP    monate                   \n",
      "                    in   IN     PP      -      -      PNP    in                       \n",
      "                   der   DT     NP      -      -      PNP    der                      \n",
      "                Klinik   NN     NP ^    -      -      PNP    klinik                   \n",
      "               gewesen   VBN    VP      -      -      PNP    sein                     \n",
      "                    ..   CD     -       -      -      -      ..                       \n",
      "                     .   .      -       -      -      -      .                        \n",
      "                     4   CD     -       -      -      -      4                        \n",
      "                   Als   IN     PP      -      -      PNP    als                      \n",
      "                   ich   PRP    NP      -      -      PNP    ich                      \n",
      "                    in   IN     PP      -      -      PNP    in                       \n",
      "                   die   DT     NP      -      -      PNP    die                      \n",
      "                Klinik   NN     NP ^    -      -      PNP    klinik                   \n",
      "                 ankam   JJ     ADJP    -      -      -      ankam                    \n",
      "                     ,   ,      -       -      -      -      ,                        \n",
      "                 wurde   VB     VP      -      -      -      werden                   \n",
      "                   ich   PRP    NP      -      -      -      ich                      \n",
      "               freundl   NN     NP ^    -      -      -      freundl                  \n",
      "                   ...   CD     -       -      -      -      ...                      \n",
      "                    ..   CD     -       -      -      -      ..                       \n",
      "                     .   .      -       -      -      -      .                        \n",
      "                  3027   CD     -       -      -      -      3027                     \n",
      "                   War   VB     VP      -      -      -      sein                     \n",
      "                   zur   IN     PP      -      -      PNP    zur                      \n",
      "      Knieendoprothese   NN     NP      -      -      PNP    knieendoprothese         \n",
      "                    im   IN     PP      -      -      PNP    im                       \n",
      "                   BWK   NNP    NP      -      -      PNP    bwk                      \n",
      "           Westerstede   NNP    NP ^    -      -      PNP    westerstede              \n",
      "                     ,   ,      -       -      -      -      ,                        \n",
      "                     h   NN     NP      -      -      -      h                        \n",
      "                    ..   CD     -       -      -      -      ..                       \n",
      "                     .   .      -       -      -      -      .                        \n",
      "                  3028   CD     -       -      -      -      3028                     \n",
      "                    Im   IN     PP      -      -      PNP    im                       \n",
      "                  Juli   NN     NP      -      -      PNP    juli                     \n",
      "                  2010   CD     -       -      -      -      2010                     \n",
      "                musste   VB     VP      -      -      -      müssen                   \n",
      "                   ich   PRP    NP      -      -      -      ich                      \n",
      "                    an   IN     PP      -      -      PNP    an                       \n",
      "                   der   DT     NP      -      -      PNP    der                      \n",
      "                  Hand   NN     NP ^    -      -      PNP    hand                     \n",
      "              operiert   NN     NP ^    -      -      PNP    operiert                 \n",
      "                     w   NN     NP ^    -      -      PNP    w                        \n",
      "                    ..   CD     -       -      -      -      ..                       \n",
      "                     .   .      -       -      -      -      .                        \n",
      "                  3029   CD     NP      -      -      -      3029                     \n",
      "                  Sehr   RB     NP ^    -      -      -      sehr                     \n",
      "                nettes   JJ     NP ^    -      -      -      nett                     \n",
      "Personal,hervorragende   NN     NP ^    -      -      -      personal,hervorragende   \n",
      "           Betreuung,Z   NNP    NP ^    -      -      -      betreuung,z              \n",
      "                    ..   CD     -       -      -      -      ..                       \n",
      "                     .   .      -       -      -      -      .                        \n",
      "                  3030   CD     -       -      -      -      3030                     \n",
      "                    Im   IN     PP      -      -      PNP    im                       \n",
      "                  Juli   NN     NP      -      -      PNP    juli                     \n",
      "                  2008   CD     -       -      -      -      2008                     \n",
      "                 hatte   VB     VP      -      -      -      haben                    \n",
      "                   ich   PRP    NP      -      -      -      ich                      \n",
      "                 einen   DT     NP ^    -      -      -      ein                      \n",
      "                Unfall   NN     NP ^    -      -      -      unfall                   \n",
      "                   und   CC     -       -      -      -      und                      \n",
      "                   kam   VB     VP      -      -      -      kommen                   \n",
      "                    in   IN     PP      -      -      -      in                       \n",
      "                    ..   CD     -       -      -      -      ..                       \n",
      "                     .   .      -       -      -      -      .                        \n",
      "                  3031   CD     -       -      -      -      3031                     \n",
      "                   Man   DT     -       -      -      -      man                      \n",
      "                 merkt   VB     VP      -      -      -      merken                   \n",
      "                    es   PRP    NP      -      -      -      es                       \n",
      "                   den   DT     NP ^    -      -      -      den                      \n",
      "                Ärzten   NN     NP ^    -      -      -      ärzten                   \n",
      "                   und   CC     -       -      -      -      und                      \n",
      "                   dem   DT     NP      -      -      -      dem                      \n",
      "        Pflegepersonal   NN     NP ^    -      -      -      pflegepersonal           \n",
      "                    ..   CD     -       -      -      -      ..                       \n",
      "                     .   .      -       -      -      -      .                        \n",
      "                  Name   NN     NP      -      -      -      name                     \n",
      "                     :   :      -       -      -      -      :                        \n",
      "     Erfahrungsbericht   NN     NP      -      -      -      erfahrungsbericht        \n",
      "                     ,   ,      -       -      -      -      ,                        \n",
      "                Length   NN     NP      -      -      -      length                   \n",
      "                     :   :      -       -      -      -      :                        \n",
      "                  3032   CD     -       -      -      -      3032                     \n",
      "                     ,   ,      -       -      -      -      ,                        \n",
      "                 dtype   NN     NP      -      -      -      dtype                    \n",
      "                     :   :      -       -      -      -      :                        \n",
      "                object   NN     NP      -      -      -      object                   \n"
     ]
    }
   ],
   "source": [
    "from textblob_de import PatternParser\n",
    "blob = TextBlobDE(text1, parser=PatternParser(pprint=True, lemmata=True))\n",
    "blob.parse()"
   ]
  }
 ],
 "metadata": {
  "kernelspec": {
   "display_name": "Python 3",
   "language": "python",
   "name": "python3"
  },
  "language_info": {
   "codemirror_mode": {
    "name": "ipython",
    "version": 3
   },
   "file_extension": ".py",
   "mimetype": "text/x-python",
   "name": "python",
   "nbconvert_exporter": "python",
   "pygments_lexer": "ipython3",
   "version": "3.8.3"
  }
 },
 "nbformat": 4,
 "nbformat_minor": 4
}
