{
 "cells": [
  {
   "cell_type": "code",
   "execution_count": 1,
   "metadata": {},
   "outputs": [],
   "source": [
    "import textblob\n",
    "import pandas as pd\n",
    "import numpy as np\n",
    "from textblob_de import TextBlobDE\n",
    "import matplotlib.pyplot as plt"
   ]
  },
  {
   "cell_type": "code",
   "execution_count": 3,
   "metadata": {},
   "outputs": [],
   "source": [
    " %matplotlib inline"
   ]
  },
  {
   "cell_type": "code",
   "execution_count": 4,
   "metadata": {},
   "outputs": [],
   "source": [
    "\n",
    "df = pd.read_csv(\"Klinikbewertungen.csv\")"
   ]
  },
  {
   "cell_type": "code",
   "execution_count": 5,
   "metadata": {},
   "outputs": [
    {
     "name": "stdout",
     "output_type": "stream",
     "text": [
      "<class 'pandas.core.frame.DataFrame'>\n",
      "RangeIndex: 3032 entries, 0 to 3031\n",
      "Data columns (total 26 columns):\n",
      " #   Column                               Non-Null Count  Dtype \n",
      "---  ------                               --------------  ----- \n",
      " 0   Klinikname                           3032 non-null   object\n",
      " 1   Nutzername                           3032 non-null   object\n",
      " 2   Titel                                3032 non-null   object\n",
      " 3   Datum                                3032 non-null   object\n",
      " 4   Behandlungsjahr                      3032 non-null   object\n",
      " 5   Berichtet als                        3032 non-null   object\n",
      " 6   Daumen hoch/runter                   3032 non-null   object\n",
      " 7   Fachbereich                          3032 non-null   object\n",
      " 8   Gesamtzufriedenheit                  3032 non-null   int64 \n",
      " 9   Textuell Gesamtzufriedenheit         3032 non-null   object\n",
      " 10  Beratungsqualität                    3032 non-null   int64 \n",
      " 11  Textuell Beratungsqualität           3032 non-null   object\n",
      " 12  Medzinische Behandlung               3032 non-null   int64 \n",
      " 13  Textuell Medizinische Behandlung     3032 non-null   object\n",
      " 14  Verwaltung und Abläufe               3032 non-null   int64 \n",
      " 15  Textuell Verwaltung und Abläufe      3032 non-null   object\n",
      " 16  Ausstattung und Gestaltung           3032 non-null   object\n",
      " 17  Textuell Ausstattung und Gestaltung  3032 non-null   object\n",
      " 18  Pro                                  3032 non-null   object\n",
      " 19  Kontra                               3031 non-null   object\n",
      " 20  Krankheitsbild                       3032 non-null   object\n",
      " 21  Privatpatient                        3032 non-null   object\n",
      " 22  Erfahrungsbericht                    3032 non-null   object\n",
      " 23  Kommentare                           3032 non-null   object\n",
      " 24  URL                                  3032 non-null   object\n",
      " 25  Extraktionsdatum                     3032 non-null   object\n",
      "dtypes: int64(4), object(22)\n",
      "memory usage: 616.0+ KB\n"
     ]
    }
   ],
   "source": [
    "df.info()"
   ]
  },
  {
   "cell_type": "code",
   "execution_count": 13,
   "metadata": {},
   "outputs": [
    {
     "name": "stdout",
     "output_type": "stream",
     "text": [
      "Klinikname                         Gesamtzufriedenheit\n",
      "AMEOS Klinikum Osnabrück           0                      57.01\n",
      "                                   6                      22.43\n",
      "                                   2                      14.02\n",
      "                                   4                       6.54\n",
      "Aller-Weser-Klinik - Klinik Achim  6                      53.12\n",
      "                                                          ...  \n",
      "Psychiatrische Klinik Uelzen       4                      11.11\n",
      "Städtische Kliniken Osnabrück      6                      47.37\n",
      "                                   0                      25.44\n",
      "                                   2                      14.04\n",
      "                                   4                      13.16\n",
      "Name: Gesamtzufriedenheit, Length: 81, dtype: float64\n"
     ]
    },
    {
     "data": {
      "image/png": "[encoded data removed]",
      "text/plain": [
       "<Figure size 432x288 with 1 Axes>"
      ]
     },
     "metadata": {
      "needs_background": "light"
     },
     "output_type": "display_data"
    }
   ],
   "source": [
    "\n",
    "from textblob_de import PatternParser\n",
    "\n",
    "\n",
    "print(round(df.groupby('Klinikname').Gesamtzufriedenheit.value_counts(normalize=True)*100,2))\n",
    "round(df.groupby('Klinikname').Gesamtzufriedenheit.value_counts(normalize=True)*100,2).plot(kind='hist')\n",
    "plt.title('.......... review ...........')\n",
    "plt.show()"
   ]
  },
  {
   "cell_type": "markdown",
   "metadata": {},
   "source": [
    "# Train Data "
   ]
  },
  {
   "cell_type": "code",
   "execution_count": 7,
   "metadata": {},
   "outputs": [],
   "source": [
    "from sklearn.model_selection import train_test_split\n",
    "\n",
    "ErfarungBericht = df.Erfahrungsbericht\n",
    "ZUfrieden = df.Gesamtzufriedenheit\n",
    "\n",
    "EB_train, Z_test, EB_train, Z_test = train_test_split(ErfarungBericht, ZUfrieden, test_size = 0.2, random_state = 225)\n",
    "\n"
   ]
  },
  {
   "cell_type": "code",
   "execution_count": null,
   "metadata": {},
   "outputs": [],
   "source": [
    "\n",
    "# train_x = negative[:1500] \n",
    "# train_y = positive[:1000] \n",
    " \n",
    "# test_x = negative[:317] \n",
    "# test_y = positive[:210] \n",
    "# print (len(test_y), \n",
    "#        len(test_x), \n",
    "#        len(train_y), \n",
    "#        len(train_x))"
   ]
  },
  {
   "cell_type": "code",
   "execution_count": 8,
   "metadata": {},
   "outputs": [
    {
     "name": "stdout",
     "output_type": "stream",
     "text": [
      "EB_train : 2425\n",
      "Z_test  : 607\n",
      "EB_train : 2425\n",
      "Z_test  : 607\n"
     ]
    }
   ],
   "source": [
    "print('EB_train :', len(EB_train))\n",
    "print('Z_test  :', len(Z_test))\n",
    "print('EB_train :', len(EB_train))\n",
    "print('Z_test  :', len(Z_test))"
   ]
  },
  {
   "cell_type": "code",
   "execution_count": 12,
   "metadata": {},
   "outputs": [
    {
     "data": {
      "text/plain": [
       "0"
      ]
     },
     "execution_count": 12,
     "metadata": {},
     "output_type": "execute_result"
    }
   ],
   "source": [
    "EB_train[8]"
   ]
  },
  {
   "cell_type": "code",
   "execution_count": 9,
   "metadata": {},
   "outputs": [],
   "source": [
    "from sklearn.feature_extraction.text import TfidfVectorizer\n",
    "from sklearn.linear_model import LogisticRegression\n",
    "\n",
    "tvec = TfidfVectorizer()\n",
    "clf2 = LogisticRegression(solver = \"lbfgs\")\n",
    "\n",
    "\n",
    "from sklearn.pipeline import Pipeline"
   ]
  },
  {
   "cell_type": "code",
   "execution_count": 10,
   "metadata": {},
   "outputs": [
    {
     "ename": "NameError",
     "evalue": "name 'IV_train' is not defined",
     "output_type": "error",
     "traceback": [
      "\u001b[1;31m---------------------------------------------------------------------------\u001b[0m",
      "\u001b[1;31mNameError\u001b[0m                                 Traceback (most recent call last)",
      "\u001b[1;32m<ipython-input-10-9a55a388dfe8>\u001b[0m in \u001b[0;36m<module>\u001b[1;34m\u001b[0m\n\u001b[0;32m      1\u001b[0m \u001b[0mmodel\u001b[0m \u001b[1;33m=\u001b[0m \u001b[0mPipeline\u001b[0m\u001b[1;33m(\u001b[0m\u001b[1;33m[\u001b[0m\u001b[1;33m(\u001b[0m\u001b[1;34m'vectorizer'\u001b[0m\u001b[1;33m,\u001b[0m\u001b[0mtvec\u001b[0m\u001b[1;33m)\u001b[0m\u001b[1;33m,\u001b[0m\u001b[1;33m(\u001b[0m\u001b[1;34m'classifier'\u001b[0m\u001b[1;33m,\u001b[0m\u001b[0mclf2\u001b[0m\u001b[1;33m)\u001b[0m\u001b[1;33m]\u001b[0m\u001b[1;33m)\u001b[0m\u001b[1;33m\u001b[0m\u001b[1;33m\u001b[0m\u001b[0m\n\u001b[0;32m      2\u001b[0m \u001b[1;33m\u001b[0m\u001b[0m\n\u001b[1;32m----> 3\u001b[1;33m \u001b[0mmodel\u001b[0m\u001b[1;33m.\u001b[0m\u001b[0mfit\u001b[0m\u001b[1;33m(\u001b[0m\u001b[0mIV_train\u001b[0m\u001b[1;33m,\u001b[0m \u001b[0mDV_train\u001b[0m\u001b[1;33m)\u001b[0m\u001b[1;33m\u001b[0m\u001b[1;33m\u001b[0m\u001b[0m\n\u001b[0m\u001b[0;32m      4\u001b[0m \u001b[1;33m\u001b[0m\u001b[0m\n\u001b[0;32m      5\u001b[0m \u001b[1;33m\u001b[0m\u001b[0m\n",
      "\u001b[1;31mNameError\u001b[0m: name 'IV_train' is not defined"
     ]
    }
   ],
   "source": [
    "model = Pipeline([('vectorizer',tvec),('classifier',clf2)])\n",
    "\n",
    "model.fit(IV_train, DV_train)\n",
    "\n",
    "\n",
    "from sklearn.metrics import confusion_matrix\n",
    "\n",
    "predictions = model.predict(IV_test)\n",
    "\n",
    "confusion_matrix(predictions, DV_test)"
   ]
  },
  {
   "cell_type": "code",
   "execution_count": null,
   "metadata": {},
   "outputs": [],
   "source": [
    "\n",
    "from sklearn.metrics import accuracy_score, precision_score, recall_score\n",
    "\n",
    "print(\"Accuracy : \", accuracy_score(predictions, DV_test))\n",
    "print(\"Precision : \", precision_score(predictions, DV_test, average = 'weighted'))\n",
    "print(\"Recall : \", recall_score(predictions, DV_test, average = 'weighted'))"
   ]
  },
  {
   "cell_type": "code",
   "execution_count": 18,
   "metadata": {},
   "outputs": [
    {
     "name": "stdout",
     "output_type": "stream",
     "text": [
      "[6]\n"
     ]
    }
   ],
   "source": [
    "example = [\"Augenscheinlich braucht diese Klinik in Corona-Zeiten Geld und tut alles, um dieses von den Krankenkassen zu bekommen!Patientin war meine 3 Monate alte Tochter. Es handelte sich um eine geplante Operation, die durchaus auch als ambulante OP vorgenommen wird. Den Grund, warum die stationäre Aufnahme notwendig war, konnte mir niemand erläutern!Bei der vorstationären Aufnahme wurde ich daraufhingewiesen, dass ich Windeln und Nahrung für mein Kind selbst mitzubringen hätte. Das Nahrung mitzubringen ist, konnte ich nachvollziehen, da es hier sehr viele verschiedene Angebote gibt und die Klinik unmöglich alle Sorten vorhalten kann! Aber Windeln? Das ist für eine Klinik mit Kinderorthopädie als Fachrichtung nicht nachvollziehbar!Das Zimmer war ein normales Doppelzimmer mit einem Gitterbettchen für meine Tochter und einem Krankenbett für mich. Im Zimmer gab es weder einen Wickelplatz noch Feuchttücher bzw. einen Windeleimer o. Ä. Wickelzubehör!Mehrere Ärzte bzw. Schwestern kannten, trotz Krankenakte in ihren Händen, nicht einmal das Geschlecht meiner Tochter.Nach der OP übten sich die Schwestern auf der Station in vornehmer Zurückhaltung! Niemand interessierte sich für den Gesundheitszustand meiner Tochter! Die verordneten Schmerzmittel wurden 1,5 Stunden zu spät gebracht und interessiert, ob ich diese meiner Tochter gebe oder nicht hat es niemanden!Am Entlassungstag sprachen die meist sehr unfreundlichen Stationsschwestern von einem Verbandswechsel, der absolut nicht notwendig und für die Behandlung meiner Tochter auch nicht vorgesehen war.Die Entlassungspapiere und der Arztbrief für den behandelnden Orthopäden wurden vor der Entlassungsvisite fertig gemacht, obwohl im Arztbrief das Ergebnis der Entlassungsvisite steht! Scheinbar kann in der Klinik jemand hellsehen.\"]\n",
    "result = model.predict(example)\n",
    "\n",
    "print(result)"
   ]
  },
  {
   "cell_type": "code",
   "execution_count": null,
   "metadata": {},
   "outputs": [],
   "source": []
  }
 ],
 "metadata": {
  "kernelspec": {
   "display_name": "Python 3",
   "language": "python",
   "name": "python3"
  },
  "language_info": {
   "codemirror_mode": {
    "name": "ipython",
    "version": 3
   },
   "file_extension": ".py",
   "mimetype": "text/x-python",
   "name": "python",
   "nbconvert_exporter": "python",
   "pygments_lexer": "ipython3",
   "version": "3.8.3"
  }
 },
 "nbformat": 4,
 "nbformat_minor": 4
}
